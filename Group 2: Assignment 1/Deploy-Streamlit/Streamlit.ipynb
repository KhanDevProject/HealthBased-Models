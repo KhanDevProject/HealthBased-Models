{
 "cells": [
  {
   "cell_type": "code",
   "execution_count": 20,
   "id": "a32142d2",
   "metadata": {},
   "outputs": [],
   "source": [
    "# Data Analysis tools\n",
    "import pandas as pd \n",
    "# Import other necessary libraries \n",
    "from keras.models import Sequential\n",
    "from keras.layers import Dense, Activation\n",
    "from sklearn.model_selection import train_test_split\n",
    "from sklearn.preprocessing import LabelEncoder, OneHotEncoder\n",
    "from sklearn.preprocessing import StandardScaler\n",
    "\n"
   ]
  },
  {
   "cell_type": "code",
   "execution_count": 21,
   "id": "6dfbebe7",
   "metadata": {},
   "outputs": [],
   "source": [
    "#reading csv file\n",
    "read_file = pd.read_csv(\"alzheimer.csv\")\n",
    "\n",
    "y = read_file.Group # Target label \n",
    "X = read_file.drop('Group', axis=1) # Drop the target label "
   ]
  },
  {
   "cell_type": "code",
   "execution_count": 22,
   "id": "6975f231",
   "metadata": {},
   "outputs": [
    {
     "data": {
      "text/plain": [
       "array([2, 2, 1, 1, 1, 2, 2, 2, 2, 2, 1, 1, 1, 2, 2, 1, 1, 1, 1, 2, 2, 2,\n",
       "       2, 2, 2, 1, 1, 1, 1, 2, 2, 2, 2, 0, 0, 0, 0, 0, 0, 1, 1, 2, 2, 1,\n",
       "       1, 1, 1, 2, 2, 2, 2, 1, 1, 2, 2, 2, 2, 0, 0, 0, 1, 1, 2, 2, 2, 2,\n",
       "       2, 2, 2, 2, 2, 2, 1, 1, 1, 1, 1, 1, 1, 1, 1, 0, 0, 0, 2, 2, 1, 1,\n",
       "       1, 1, 1, 2, 2, 1, 1, 2, 2, 1, 1, 1, 1, 1, 2, 2, 2, 1, 1, 2, 2, 2,\n",
       "       2, 2, 2, 2, 0, 0, 2, 2, 2, 2, 2, 2, 2, 1, 1, 1, 1, 1, 2, 2, 2, 2,\n",
       "       2, 2, 1, 1, 1, 1, 1, 1, 1, 2, 2, 2, 2, 2, 2, 2, 2, 2, 2, 2, 2, 2,\n",
       "       1, 1, 2, 2, 2, 2, 2, 1, 1, 2, 2, 2, 2, 2, 2, 2, 2, 1, 1, 1, 1, 1,\n",
       "       1, 1, 1, 2, 2, 2, 2, 1, 1, 1, 1, 1, 1, 2, 2, 2, 2, 2, 0, 0, 2, 2,\n",
       "       2, 2, 2, 2, 2, 2, 2, 1, 1, 1, 1, 2, 2, 2, 2, 2, 2, 1, 1, 1, 0, 0,\n",
       "       0, 1, 1, 2, 2, 1, 1, 1, 1, 2, 2, 1, 1, 1, 1, 1, 1, 1, 1, 1, 1, 2,\n",
       "       2, 2, 2, 0, 0, 2, 2, 2, 1, 1, 2, 2, 2, 2, 1, 1, 2, 2, 2, 0, 0, 0,\n",
       "       0, 0, 2, 2, 2, 2, 2, 0, 0, 0, 0, 1, 1, 2, 2, 1, 1, 2, 2, 1, 1, 1,\n",
       "       1, 1, 2, 2, 2, 2, 2, 2, 2, 0, 0, 0, 0, 1, 1, 2, 2, 2, 2, 2, 2, 1,\n",
       "       1, 2, 2, 2, 2, 2, 2, 2, 1, 1, 2, 2, 1, 1, 1, 1, 2, 2, 2, 1, 1, 1,\n",
       "       1, 1, 1, 2, 2, 2, 2, 2, 1, 1, 2, 2, 2, 1, 1, 1, 0, 0, 0, 2, 2, 2,\n",
       "       2, 2, 1, 1, 1, 1, 1, 1, 1, 2, 2, 2, 2, 1, 1, 1, 1, 1, 2, 2, 2])"
      ]
     },
     "execution_count": 22,
     "metadata": {},
     "output_type": "execute_result"
    }
   ],
   "source": [
    "Encoder = LabelEncoder() #create an object of class LabelEncoder\n",
    "y = Encoder.fit_transform(y) # encode our target/label categories to numbers\n",
    "y # ML uses these numeric labels (0, 1, 2) to do classification"
   ]
  },
  {
   "cell_type": "code",
   "execution_count": 23,
   "id": "1629dab4",
   "metadata": {},
   "outputs": [
    {
     "data": {
      "text/html": [
       "<div>\n",
       "<style scoped>\n",
       "    .dataframe tbody tr th:only-of-type {\n",
       "        vertical-align: middle;\n",
       "    }\n",
       "\n",
       "    .dataframe tbody tr th {\n",
       "        vertical-align: top;\n",
       "    }\n",
       "\n",
       "    .dataframe thead th {\n",
       "        text-align: right;\n",
       "    }\n",
       "</style>\n",
       "<table border=\"1\" class=\"dataframe\">\n",
       "  <thead>\n",
       "    <tr style=\"text-align: right;\">\n",
       "      <th></th>\n",
       "      <th>M/F</th>\n",
       "      <th>Age</th>\n",
       "      <th>EDUC</th>\n",
       "      <th>SES</th>\n",
       "      <th>MMSE</th>\n",
       "      <th>CDR</th>\n",
       "      <th>eTIV</th>\n",
       "      <th>nWBV</th>\n",
       "      <th>ASF</th>\n",
       "    </tr>\n",
       "  </thead>\n",
       "  <tbody>\n",
       "    <tr>\n",
       "      <th>0</th>\n",
       "      <td>1</td>\n",
       "      <td>87</td>\n",
       "      <td>14</td>\n",
       "      <td>2.0</td>\n",
       "      <td>27.0</td>\n",
       "      <td>0.0</td>\n",
       "      <td>1987</td>\n",
       "      <td>0.696</td>\n",
       "      <td>0.883</td>\n",
       "    </tr>\n",
       "    <tr>\n",
       "      <th>1</th>\n",
       "      <td>1</td>\n",
       "      <td>88</td>\n",
       "      <td>14</td>\n",
       "      <td>2.0</td>\n",
       "      <td>30.0</td>\n",
       "      <td>0.0</td>\n",
       "      <td>2004</td>\n",
       "      <td>0.681</td>\n",
       "      <td>0.876</td>\n",
       "    </tr>\n",
       "    <tr>\n",
       "      <th>2</th>\n",
       "      <td>1</td>\n",
       "      <td>75</td>\n",
       "      <td>12</td>\n",
       "      <td>NaN</td>\n",
       "      <td>23.0</td>\n",
       "      <td>0.5</td>\n",
       "      <td>1678</td>\n",
       "      <td>0.736</td>\n",
       "      <td>1.046</td>\n",
       "    </tr>\n",
       "    <tr>\n",
       "      <th>3</th>\n",
       "      <td>1</td>\n",
       "      <td>76</td>\n",
       "      <td>12</td>\n",
       "      <td>NaN</td>\n",
       "      <td>28.0</td>\n",
       "      <td>0.5</td>\n",
       "      <td>1738</td>\n",
       "      <td>0.713</td>\n",
       "      <td>1.010</td>\n",
       "    </tr>\n",
       "    <tr>\n",
       "      <th>4</th>\n",
       "      <td>1</td>\n",
       "      <td>80</td>\n",
       "      <td>12</td>\n",
       "      <td>NaN</td>\n",
       "      <td>22.0</td>\n",
       "      <td>0.5</td>\n",
       "      <td>1698</td>\n",
       "      <td>0.701</td>\n",
       "      <td>1.034</td>\n",
       "    </tr>\n",
       "  </tbody>\n",
       "</table>\n",
       "</div>"
      ],
      "text/plain": [
       "   M/F  Age  EDUC  SES  MMSE  CDR  eTIV   nWBV    ASF\n",
       "0    1   87    14  2.0  27.0  0.0  1987  0.696  0.883\n",
       "1    1   88    14  2.0  30.0  0.0  2004  0.681  0.876\n",
       "2    1   75    12  NaN  23.0  0.5  1678  0.736  1.046\n",
       "3    1   76    12  NaN  28.0  0.5  1738  0.713  1.010\n",
       "4    1   80    12  NaN  22.0  0.5  1698  0.701  1.034"
      ]
     },
     "execution_count": 23,
     "metadata": {},
     "output_type": "execute_result"
    }
   ],
   "source": [
    "X[\"M/F\"] = Encoder.fit_transform(X[\"M/F\"]) # Replace the existing text data with the new encoded data\n",
    "X.head()\n",
    "#X.tail() # Printing the last 5 rows"
   ]
  },
  {
   "cell_type": "code",
   "execution_count": 24,
   "id": "7c8d80af",
   "metadata": {},
   "outputs": [
    {
     "data": {
      "text/plain": [
       "M/F      0\n",
       "Age      0\n",
       "EDUC     0\n",
       "SES     19\n",
       "MMSE     2\n",
       "CDR      0\n",
       "eTIV     0\n",
       "nWBV     0\n",
       "ASF      0\n",
       "dtype: int64"
      ]
     },
     "execution_count": 24,
     "metadata": {},
     "output_type": "execute_result"
    }
   ],
   "source": [
    "X.isnull().sum() # Display missing data in our training data"
   ]
  },
  {
   "cell_type": "code",
   "execution_count": 25,
   "id": "06584389",
   "metadata": {},
   "outputs": [
    {
     "data": {
      "text/plain": [
       "M/F     0\n",
       "Age     0\n",
       "EDUC    0\n",
       "SES     0\n",
       "MMSE    0\n",
       "CDR     0\n",
       "eTIV    0\n",
       "nWBV    0\n",
       "ASF     0\n",
       "dtype: int64"
      ]
     },
     "execution_count": 25,
     "metadata": {},
     "output_type": "execute_result"
    }
   ],
   "source": [
    "X['SES'] = X.SES.fillna(X['SES'].mean()) # filling the SES group with the mean value\n",
    "X['MMSE'] = X.MMSE.fillna(X['MMSE'].mean()) # filling the MMSE group with the mean value\n",
    "X.isnull().sum()"
   ]
  },
  {
   "cell_type": "code",
   "execution_count": 26,
   "id": "e204eac2",
   "metadata": {},
   "outputs": [
    {
     "data": {
      "text/plain": [
       "((373,), (373, 9))"
      ]
     },
     "execution_count": 26,
     "metadata": {},
     "output_type": "execute_result"
    }
   ],
   "source": [
    "y.shape, X.shape # Print the shapes of x and y "
   ]
  },
  {
   "cell_type": "code",
   "execution_count": 27,
   "id": "41fa2207",
   "metadata": {},
   "outputs": [
    {
     "data": {
      "text/plain": [
       "array([[0., 0., 1.],\n",
       "       [0., 0., 1.],\n",
       "       [0., 1., 0.],\n",
       "       ...,\n",
       "       [0., 0., 1.],\n",
       "       [0., 0., 1.],\n",
       "       [0., 0., 1.]], dtype=float32)"
      ]
     },
     "execution_count": 27,
     "metadata": {},
     "output_type": "execute_result"
    }
   ],
   "source": [
    "from keras.utils import np_utils\n",
    "\n",
    "new_y = np_utils.to_categorical(y)\n",
    "new_y"
   ]
  },
  {
   "cell_type": "code",
   "execution_count": 28,
   "id": "cbc9279e",
   "metadata": {},
   "outputs": [],
   "source": [
    "X_train, X_test, y_train, y_test = train_test_split(X, new_y, test_size=.3, random_state=42) "
   ]
  },
  {
   "cell_type": "code",
   "execution_count": 29,
   "id": "ca0a0d51",
   "metadata": {},
   "outputs": [],
   "source": [
    "# Feature Scaling\n",
    "scaler = StandardScaler()\n",
    "X_train = scaler.fit_transform(X_train)\n",
    "X_test = scaler.fit_transform(X_test)\n"
   ]
  },
  {
   "cell_type": "code",
   "execution_count": 30,
   "id": "a0f38d0f",
   "metadata": {},
   "outputs": [
    {
     "data": {
      "text/plain": [
       "9"
      ]
     },
     "execution_count": 30,
     "metadata": {},
     "output_type": "execute_result"
    }
   ],
   "source": [
    "X.shape[1] "
   ]
  },
  {
   "cell_type": "code",
   "execution_count": 31,
   "id": "5324c2cf",
   "metadata": {},
   "outputs": [
    {
     "name": "stdout",
     "output_type": "stream",
     "text": [
      "Epoch 1/5\n",
      "5/5 [==============================] - 0s 11ms/step - loss: 0.8546 - accuracy: 0.7126\n",
      "Epoch 2/5\n",
      "5/5 [==============================] - 0s 9ms/step - loss: 0.3405 - accuracy: 0.8927\n",
      "Epoch 3/5\n",
      "5/5 [==============================] - 0s 11ms/step - loss: 0.2349 - accuracy: 0.9425\n",
      "Epoch 4/5\n",
      "5/5 [==============================] - 0s 11ms/step - loss: 0.2243 - accuracy: 0.9119\n",
      "Epoch 5/5\n",
      "5/5 [==============================] - 0s 10ms/step - loss: 0.2021 - accuracy: 0.9195\n"
     ]
    },
    {
     "data": {
      "text/plain": [
       "<tensorflow.python.keras.callbacks.History at 0x265b9630ee0>"
      ]
     },
     "execution_count": 31,
     "metadata": {},
     "output_type": "execute_result"
    }
   ],
   "source": [
    "#Define the model architecture\n",
    "model = Sequential()\n",
    "model.add(Dense(700, input_dim=X.shape[1],activation = \"relu\")) #Layer 1\n",
    "model.add(Dense(600,activation = \"relu\")) #Layer 2\n",
    "model.add(Dense(500,activation = \"relu\")) #Layer 3\n",
    "model.add(Dense(400,activation = \"relu\")) #Layer 4\n",
    "model.add(Dense(300,activation = \"relu\")) #Layer 5\n",
    "model.add(Dense(3,activation = \"softmax\")) #Output Layer\n",
    "#Configure the model   \n",
    "model.compile(optimizer='Adam',loss= 'categorical_crossentropy', metrics=['accuracy'])\n",
    "#Train the model\n",
    "model.fit(X_train, y_train, batch_size=64, epochs=5)"
   ]
  },
  {
   "cell_type": "code",
   "execution_count": 32,
   "id": "63a4f075",
   "metadata": {},
   "outputs": [
    {
     "name": "stdout",
     "output_type": "stream",
     "text": [
      "4/4 [==============================] - 0s 2ms/step - loss: 0.5548 - accuracy: 0.8482\n"
     ]
    },
    {
     "data": {
      "text/plain": [
       "[0.5548134446144104, 0.8482142686843872]"
      ]
     },
     "execution_count": 32,
     "metadata": {},
     "output_type": "execute_result"
    }
   ],
   "source": [
    "model.evaluate(X_test, y_test) # Evaluate model on test data \n"
   ]
  },
  {
   "cell_type": "code",
   "execution_count": null,
   "id": "43e8b68a",
   "metadata": {},
   "outputs": [],
   "source": [
    "from sklearn.ensemble import RandomForestClassifier \n",
    "\n",
    "model = RandomForestClassifier(max_depth=4, random_state = 10) \n",
    "model.fit(X_train, y_train)"
   ]
  },
  {
   "cell_type": "code",
   "execution_count": null,
   "id": "01cba137",
   "metadata": {},
   "outputs": [],
   "source": [
    "from sklearn.metrics import accuracy_score\n",
    "\n",
    "pred_cv = model.predict(X_test)\n",
    "accuracy_score(y_test,pred_cv)"
   ]
  },
  {
   "cell_type": "code",
   "execution_count": null,
   "id": "0b184afd",
   "metadata": {},
   "outputs": [],
   "source": [
    "pred_train = model.predict(X_train)\n",
    "accuracy_score(y_train,pred_train)"
   ]
  },
  {
   "cell_type": "code",
   "execution_count": null,
   "id": "4dec691a",
   "metadata": {},
   "outputs": [],
   "source": [
    "# saving the model \n",
    "import pickle\n",
    "pickle_out = open(\"classifier.pkl\", mode = \"wb\") \n",
    "pickle.dump(model, pickle_out) \n",
    "pickle_out.close()"
   ]
  },
  {
   "cell_type": "code",
   "execution_count": 14,
   "id": "593a8680",
   "metadata": {},
   "outputs": [
    {
     "name": "stdout",
     "output_type": "stream",
     "text": [
      "Overwriting DeployApp.py\n"
     ]
    }
   ],
   "source": [
    "%%writefile DeployApp.py\n",
    " \n",
    "\n",
    "import pickle\n",
    "import streamlit as st\n",
    "import numpy as np\n",
    "\n",
    " \n",
    "# loading the trained model\n",
    "pickle_in = open('classifier.pkl', 'rb') \n",
    "classifier = pickle.load(pickle_in)\n",
    " \n",
    "@st.cache(allow_output_mutation=True)\n",
    "\n",
    "# defining the function which will make the prediction using the data which the user inputs \n",
    "def prediction(Age, Gender,EDUC,SES,MMSE,CDR,eTIV,nWBV,ASF):\n",
    "    \n",
    "    # preprocess user input\n",
    "    if Gender == 'Male':\n",
    "        Gender = 0\n",
    "    else:\n",
    "        Gender = 1\n",
    "        \n",
    "    # making predictions of all the grouphs in the file\n",
    "    predictions = classifier.predict(\n",
    "        [[Age,Gender,EDUC,SES,MMSE,CDR,eTIV,nWBV,ASF]])\n",
    "    \n",
    "    class_names = ['Converted','Demented','Nondemented']\n",
    "    final_pred = class_names[np.argmax(predictions)]        \n",
    "         \n",
    "    return final_pred, predictions\n",
    "# main function defines our webpage\n",
    "def main():\n",
    "     # front end elements of the web page \n",
    "    html_temp =\"\"\"\n",
    "    <div style =\"background-color:red;background-image: linear-gradient(45deg, #f3ec78, #af4261);background-size: 100%;  background-repeat: repeat;;\n",
    "    -webkit-background-clip: text;-webkit-text-fill-color: transparent; -moz-background-clip: text;\n",
    "    -moz-text-fill-color: transparent;\"> \n",
    "    <h1 style =\"text-align: center;font-family: \"Archivo Black\", sans-serif;font-weight: normal;font-size: 6em; \">Alzheimer Deployment</h1> \n",
    "    </div> \"\"\"\n",
    "    # display the front end aspect\n",
    "    st.markdown(html_temp, unsafe_allow_html = True) \n",
    "    \n",
    "    # allow user input \n",
    "    Gender = st.selectbox('Gender',('Male','Female'))\n",
    "    Age  = st.slider('Age',min_value=1, max_value=100, value=10, step=1)\n",
    "    EDUC  = st.slider('Years of Education: EDUC',min_value=1, max_value=100, value=1, step=1)\n",
    "    SES  = st.slider('Socialeconomic Status (SES): 1-5',min_value=1, max_value=50, value=1, step=1)\n",
    "    MMSE = st.slider('Mini Mental State Examination (MMSE)',min_value=1, max_value=40, value=1, step=1)\n",
    "    CDR = st.slider('Clinical Dimentia Rating (CDR): 0-3',min_value=0.0, max_value=3.0, value=0.0, step=0.5)\n",
    "    eTIV = st.slider(' Estimated total intracranial volume:eTIV ',min_value=1000, max_value=2000, value=1000, step=1)\n",
    "    nWBV  = st.slider('Normalized whole Brain Volume: nWBV',min_value=0.0, max_value=1.0, value=0.0,step=0.01)\n",
    "    ASF  = st.slider('Atlas Scaling Factor: ASF',min_value=0.7, max_value=1.6, value=0.7, step=0.01)\n",
    "    # Make the prediction and store it when clicked\n",
    "    if st.button(\"Predict\"):\n",
    "        result, preds = prediction(Age,Gender,EDUC,SES,MMSE,CDR,eTIV,nWBV,ASF)\n",
    "        st.success(f'Health Status is {result}')\n",
    "        \n",
    "if __name__=='__main__': \n",
    "    main()"
   ]
  }
 ],
 "metadata": {
  "kernelspec": {
   "display_name": "Python 3",
   "language": "python",
   "name": "python3"
  },
  "language_info": {
   "codemirror_mode": {
    "name": "ipython",
    "version": 3
   },
   "file_extension": ".py",
   "mimetype": "text/x-python",
   "name": "python",
   "nbconvert_exporter": "python",
   "pygments_lexer": "ipython3",
   "version": "3.8.8"
  }
 },
 "nbformat": 4,
 "nbformat_minor": 5
}
